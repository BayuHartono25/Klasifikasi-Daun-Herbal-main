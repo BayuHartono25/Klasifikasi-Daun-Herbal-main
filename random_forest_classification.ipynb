{
 "cells": [
  {
   "cell_type": "code",
   "execution_count": null,
   "id": "55604ae6",
   "metadata": {},
   "outputs": [
    {
     "name": "stdout",
     "output_type": "stream",
     "text": [
      "✅ Jumlah gambar terbaca: 153 dari 3 kelas\n",
      "Data latih: 122\n",
      "Data uji: 31\n",
      "\n",
      "🎯 Akurasi Model Random Forest: 96.77%\n",
      "\n",
      "=== Classification Report ===\n",
      "              precision    recall  f1-score   support\n",
      "\n",
      " Daun_Nangka       1.00      0.91      0.95        11\n",
      "  Daun_Sirih       1.00      1.00      1.00        12\n",
      "      Nangka       0.89      1.00      0.94         8\n",
      "\n",
      "    accuracy                           0.97        31\n",
      "   macro avg       0.96      0.97      0.96        31\n",
      "weighted avg       0.97      0.97      0.97        31\n",
      "\n"
     ]
    },
    {
     "data": {
      "image/png": "[encoded data removed]",
      "text/plain": [
       "<Figure size 600x500 with 2 Axes>"
      ]
     },
     "metadata": {},
     "output_type": "display_data"
    },
    {
     "name": "stdout",
     "output_type": "stream",
     "text": [
      "\n",
      "Contoh 5 hasil prediksi:\n",
      "1. Prediksi: Daun_Sirih | Asli: Daun_Sirih\n",
      "2. Prediksi: Daun_Sirih | Asli: Daun_Sirih\n",
      "3. Prediksi: Daun_Sirih | Asli: Daun_Sirih\n",
      "4. Prediksi: Nangka | Asli: Nangka\n",
      "5. Prediksi: Daun_Nangka | Asli: Daun_Nangka\n"
     ]
    }
   ],
   "source": [
    "# === Import Library ===\n",
    "import os\n",
    "import cv2\n",
    "import numpy as np\n",
    "import pandas as pd\n",
    "import matplotlib.pyplot as plt\n",
    "from sklearn.model_selection import train_test_split\n",
    "from sklearn.ensemble import RandomForestClassifier\n",
    "from sklearn.metrics import accuracy_score, classification_report, confusion_matrix\n",
    "import joblib\n",
    "\n",
    "# === Path ke dataset ===\n",
    "data_dir = \"dataset\"\n",
    "\n",
    "# === Mengecek apakah folder dataset ada ===\n",
    "if not os.path.exists(data_dir):\n",
    "    raise FileNotFoundError(\"⚠️ Folder 'dataset' tidak ditemukan. Pastikan folder tersebut ada di direktori proyek.\")\n",
    "\n",
    "# === Membaca gambar dan mengekstraksi fitur warna (histogram RGB) ===\n",
    "labels = []\n",
    "features = []\n",
    "\n",
    "for folder in os.listdir(data_dir):\n",
    "    folder_path = os.path.join(data_dir, folder)\n",
    "    if not os.path.isdir(folder_path):\n",
    "        continue\n",
    "\n",
    "    for file in os.listdir(folder_path):\n",
    "        img_path = os.path.join(folder_path, file)\n",
    "        img = cv2.imread(img_path)\n",
    "        if img is None:\n",
    "            continue\n",
    "\n",
    "        # Resize gambar agar seragam\n",
    "        img = cv2.resize(img, (128, 128))\n",
    "\n",
    "        # Ekstraksi fitur warna: histogram RGB (8x8x8 bin)\n",
    "        hist = cv2.calcHist([img], [0, 1, 2], None, [8, 8, 8],\n",
    "                            [0, 256, 0, 256, 0, 256])\n",
    "        hist = cv2.normalize(hist, hist).flatten()\n",
    "\n",
    "        features.append(hist)\n",
    "        labels.append(folder)\n",
    "\n",
    "print(f\"✅ Jumlah gambar terbaca: {len(features)} dari {len(set(labels))} kelas\")\n",
    "\n",
    "# === Ubah ke format NumPy array ===\n",
    "X = np.array(features)\n",
    "y = np.array(labels)\n",
    "\n",
    "# === Split data ===\n",
    "X_train, X_test, y_train, y_test = train_test_split(X, y, test_size=0.2, random_state=42)\n",
    "print(\"Data latih:\", len(X_train))\n",
    "print(\"Data uji:\", len(X_test))\n",
    "\n",
    "# === Inisialisasi dan latih model Random Forest ===\n",
    "rf = RandomForestClassifier(n_estimators=100, random_state=42)\n",
    "rf.fit(X_train, y_train)\n",
    "\n",
    "# === Prediksi ===\n",
    "y_pred = rf.predict(X_test)\n",
    "\n",
    "# === Evaluasi ===\n",
    "acc = accuracy_score(y_test, y_pred)\n",
    "print(f\"\\n🎯 Akurasi Model Random Forest: {acc * 100:.2f}%\\n\")\n",
    "\n",
    "print(\"=== Classification Report ===\")\n",
    "print(classification_report(y_test, y_pred))\n",
    "\n",
    "# === Confusion Matrix ===\n",
    "cm = confusion_matrix(y_test, y_pred, labels=np.unique(y))\n",
    "plt.figure(figsize=(6, 5))\n",
    "plt.imshow(cm, cmap='Blues')\n",
    "plt.title(\"Confusion Matrix - Random Forest\")\n",
    "plt.xlabel(\"Predicted Label\")\n",
    "plt.ylabel(\"True Label\")\n",
    "plt.colorbar()\n",
    "plt.show()\n",
    "\n",
    "# === Tampilkan hasil prediksi contoh ===\n",
    "print(\"\\nContoh 5 hasil prediksi:\")\n",
    "for i in range(min(5, len(y_pred))):\n",
    "    print(f\"{i+1}. Prediksi: {y_pred[i]} | Asli: {y_test[i]}\")\n",
    "\n"
   ]
  }
 ],
 "metadata": {
  "kernelspec": {
   "display_name": "Python 3",
   "language": "python",
   "name": "python3"
  },
  "language_info": {
   "codemirror_mode": {
    "name": "ipython",
    "version": 3
   },
   "file_extension": ".py",
   "mimetype": "text/x-python",
   "name": "python",
   "nbconvert_exporter": "python",
   "pygments_lexer": "ipython3",
   "version": "3.11.9"
  }
 },
 "nbformat": 4,
 "nbformat_minor": 5
}
